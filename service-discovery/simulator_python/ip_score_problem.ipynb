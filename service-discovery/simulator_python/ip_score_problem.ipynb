{
 "cells": [
  {
   "cell_type": "markdown",
   "metadata": {},
   "source": [
    "# IP Storage\n",
    "\n",
    "We consider a storage for IP addresses. The storage supports `add` and `delete` operations. The storage is implemented as a binary tree with a root + 32 levels. Each node in the tree has a counter initially set to 0. Each non-leaf node has two outgoing edges despicted '0' and '1'. To add an IP we:\n",
    "* convert the IP to a 32-bit binary form\n",
    "* We traverse the tree from the root to the leaf following the edges as indicated by the IP binary form. For instance an IP starting with `101...` will first go to root, then go to level 1 via edge `1`, then go to level 2 via edge `0`, then go to level 3 via edge `1` and so on\n",
    "* We increment the counter by 1 at each traversed node. \n",
    "\n",
    "Note that the root counter holds the total number of IPs in the tree. \n",
    "\n",
    "The `delete` method operates in the same way, but decreases the counter rather than increasing them. \n",
    "\n",
    "## IP Score\n",
    "Adding an IP address via `add` returns a similarity score (from 0 to 1). It provides of similarity measure between the IP being added and IP addresses already in the storage. Intuitively, high similarity scores (close to 1) means that the IP being added is very similar to IP addresses already in the table. Low scores (close to 0) indicates that the IP being added is very different from IPs already in the table. \n",
    "\n",
    "Before a new IP is added, we calculate a `balanced_counter` for each level of the tree expressed as `balanced_counter(level) = rootCounter / (2^level)`. For instance, if there are 8 IPs in the storage, `balanced_counter(0) = 8 / (2^0) = 8`, `balanced_counter(1) = 8 / (2^1) = 4`, `balanced_counter(2) = 8 / (2^2) = 4` etc. \n",
    "\n",
    "When adding a IP, we create a new variable `score(IP) = 0`. At each encounterd node, we compare the node counter with the `balanced_counter` at the respective level. This is done before incrementing the counter. If the counter is higher than the `balance_counter` we increase the `score(IP)` by 1. An IP can get up to 32 points if such the IPs are already present in the storage. We then normalize the score by dividing it by 32 and return it a the similarity score. \n"
   ]
  },
  {
   "cell_type": "markdown",
   "metadata": {},
   "source": []
  },
  {
   "cell_type": "markdown",
   "metadata": {},
   "source": [
    "Below, we create helper function to generate diverse IP and should get very low similarity score when added to the storage. "
   ]
  },
  {
   "cell_type": "code",
   "execution_count": 7,
   "metadata": {},
   "outputs": [],
   "source": [
    "#!/usr/bin/python3 \n",
    "import matplotlib.pyplot as plt\n",
    "from TreeMichal import *\n",
    "import math\n",
    "\n",
    "# helper function to flip a bit written as a string/character\n",
    "def flip(b):\n",
    "    assert(b == '0' or b == '1')\n",
    "    if (b == '0'):\n",
    "        return '1'\n",
    "    return '0'\n",
    "\n",
    "# generates a specified amount of IPs that will get the lowest possible score in the IP tree\n",
    "def generate_IPs(n):\n",
    "    ips = []\n",
    "    init_ip = list('1'*32)\n",
    "    for i in range(0, n):\n",
    "        for j in range(0, len(init_ip)):\n",
    "            if((i % (2**j)) == 0):\n",
    "                init_ip[j] = flip(init_ip[j])\n",
    "        \n",
    "        ip_str = ''\n",
    "        for octet in range(0, 4):\n",
    "            offset = octet*8\n",
    "            octet_str = str(int(''.join(init_ip[offset:offset + 8]), 2))\n",
    "            ip_str  = ip_str + '.' + octet_str\n",
    "        #remove the first '.'\n",
    "        ips.append(ip_str[1:])\n",
    "    return ips\n",
    "#generates IPs number of distinct ip_num addresses and adds reg_num number of registration\n",
    "# to the tree. \n",
    "# Returns the average score obtained by all the (rescaled to [0, 32] range)\n",
    "def add_with_avg_score(ip_num, reg_num):\n",
    "    ips = generate_IPs(ip_num)\n",
    "    tree = TreeMichal()\n",
    "    scores = []\n",
    "    for i in range(0, reg_num):\n",
    "        ip = ips[i % len(ips)]\n",
    "        score,_ = tree.add(ip)\n",
    "        scores.append(score)\n",
    "    \n",
    "    scores = [x * 32 for x in scores]\n",
    "    return sum(scores)/len(scores)\n",
    "def model_avg_score(ip_num, reg_num):\n",
    "    return ((32 - math.log(ip_num, 2)) * (reg_num - ip_num)) / reg_num\n"
   ]
  },
  {
   "cell_type": "code",
   "execution_count": 22,
   "metadata": {},
   "outputs": [
    {
     "name": "stdout",
     "output_type": "stream",
     "text": [
      "0.0 =? 0.0\n",
      "28.8 =? 28.8\n"
     ]
    },
    {
     "data": {
      "image/png": "[encoded data removed]",
      "text/plain": [
       "<Figure size 432x288 with 1 Axes>"
      ]
     },
     "metadata": {
      "needs_background": "light"
     },
     "output_type": "display_data"
    }
   ],
   "source": [
    "import numpy as np\n",
    "\n",
    "print(add_with_avg_score(10, 10), \"=?\", model_avg_score(10 ,10))\n",
    "print(add_with_avg_score(1, 10), \"=?\", model_avg_score(1 ,10))\n",
    "\n",
    "fig = plt.figure()\n",
    "ax = fig.add_subplot()\n",
    "\n",
    "max_regs = 200\n",
    "\n",
    "colors = ['r', 'g', 'b']\n",
    "#the below is just for the legend\n",
    "ax.scatter(0, 0, color='black', marker='x', label='empirical')\n",
    "i = 0\n",
    "for ip_num in [1, 10, 50]:\n",
    "    x = np.linspace(ip_num,max_regs,100)\n",
    "    y = ((32 - math.log(ip_num, 2)) * (x - ip_num)) / x\n",
    "    plt.plot(x,y, colors[i], label='model, ip_num='+str(ip_num))\n",
    "    for reg_num in range(ip_num, max_regs + 1, 4):\n",
    "         ax.scatter(reg_num, add_with_avg_score(ip_num, reg_num), color=colors[i], marker='x')\n",
    "\n",
    "\n",
    "    i += 1\n",
    "\n",
    "ax.set_xlabel(\"#Registrations\")\n",
    "ax.set_ylabel(\"Avg Score\")\n",
    "plt.legend()\n",
    "plt.show()\n"
   ]
  },
  {
   "cell_type": "markdown",
   "metadata": {},
   "source": [
    "When we add uniquely diverse IPs, the score is always 0 (as it should be):"
   ]
  },
  {
   "cell_type": "code",
   "execution_count": 2,
   "metadata": {},
   "outputs": [
    {
     "name": "stdout",
     "output_type": "stream",
     "text": [
      "avg good score 0.0\n"
     ]
    },
    {
     "data": {
      "image/png": "[encoded data removed]",
      "text/plain": [
       "<Figure size 432x288 with 1 Axes>"
      ]
     },
     "metadata": {
      "needs_background": "light"
     },
     "output_type": "display_data"
    }
   ],
   "source": [
    "\n",
    "\n",
    "ips = generate_IPs(50)\n",
    "tree = TreeMichal()\n",
    "#plotting\n",
    "fig = plt.figure()\n",
    "ax = fig.add_subplot()\n",
    "\n",
    "counter = 0\n",
    "good_scores = []\n",
    "\n",
    "for ip in ips:\n",
    "    score,_ = tree.add(ip)\n",
    "    good_scores.append(score)\n",
    "    ax.scatter(counter, score, label='score2, benign', color='blue', marker='x')\n",
    "    \n",
    "    counter += 1\n",
    "print(\"avg good score\", sum(good_scores)/len(good_scores))\n",
    "plt.show()"
   ]
  },
  {
   "cell_type": "markdown",
   "metadata": {},
   "source": [
    "We consider two populations of requests. Malicious and benign. The benign one will add uniquely different IPs. The malicious ones, will make the same amount of requests but will try to add a number of IPs lower than the number of requests.\n",
    "\n",
    "This is what happens when \"malicious\" requests use only 1 IP address. They get almost uniquely 1 as a similarity score, but it also increases the score for some of the honest requests."
   ]
  },
  {
   "cell_type": "code",
   "execution_count": 3,
   "metadata": {},
   "outputs": [
    {
     "name": "stdout",
     "output_type": "stream",
     "text": [
      "avg good score 0.04625\n",
      "avg bad score 0.98125\n"
     ]
    },
    {
     "data": {
      "image/png": "[encoded data removed]",
      "text/plain": [
       "<Figure size 432x288 with 1 Axes>"
      ]
     },
     "metadata": {
      "needs_background": "light"
     },
     "output_type": "display_data"
    }
   ],
   "source": [
    "import random\n",
    "from TreeMichal import *\n",
    "\n",
    "ips = generate_IPs(50)\n",
    "malicious_ips_num = 1\n",
    "malicious_ips = set()\n",
    "while(len(malicious_ips) < malicious_ips_num):\n",
    "    malicious_ips.add(ips[random.randint(0, len(ips)-1)])\n",
    "    malicious_ips = list(malicious_ips)\n",
    "\n",
    "#plotting\n",
    "fig = plt.figure()\n",
    "ax = fig.add_subplot()\n",
    "\n",
    "tree = TreeMichal()\n",
    "counter = 0\n",
    "good_scores = []\n",
    "bad_scores = []\n",
    "\n",
    "for ip in ips:\n",
    "    score,_ = tree.add(ip)\n",
    "    good_scores.append(score)\n",
    "    ax.scatter(2*counter, score, label='benign', color='green', marker='x')\n",
    "    \n",
    "    score,_ = tree.add(malicious_ips[counter % len(malicious_ips)])\n",
    "    bad_scores.append(score)\n",
    "    ax.scatter(2*counter + 1, score, label='malicious', color='red', marker='x')\n",
    "    counter += 1\n",
    "print(\"avg good score\", sum(good_scores)/len(good_scores))\n",
    "print(\"avg bad score\", sum(bad_scores)/len(bad_scores))\n",
    "plt.show()"
   ]
  },
  {
   "cell_type": "markdown",
   "metadata": {},
   "source": [
    "Increasing the number of different IPs used by the malicious requests makes the two score more similar. "
   ]
  },
  {
   "cell_type": "code",
   "execution_count": 4,
   "metadata": {},
   "outputs": [
    {
     "name": "stdout",
     "output_type": "stream",
     "text": [
      "avg good score 0.21125\n",
      "avg bad score 0.804375\n"
     ]
    },
    {
     "data": {
      "image/png": "[encoded data removed]",
      "text/plain": [
       "<Figure size 432x288 with 1 Axes>"
      ]
     },
     "metadata": {
      "needs_background": "light"
     },
     "output_type": "display_data"
    }
   ],
   "source": [
    "import random\n",
    "from TreeMichal import *\n",
    "\n",
    "ips = generate_IPs(50)\n",
    "malicious_ips_num = 10\n",
    "malicious_ips = set()\n",
    "while(len(malicious_ips) < malicious_ips_num):\n",
    "    malicious_ips.add(ips[random.randint(0, len(ips)-1)])\n",
    "malicious_ips = list(malicious_ips)\n",
    "\n",
    "#plotting\n",
    "fig = plt.figure()\n",
    "ax = fig.add_subplot()\n",
    "\n",
    "tree = TreeMichal()\n",
    "counter = 0\n",
    "good_scores = []\n",
    "bad_scores = []\n",
    "\n",
    "for ip in ips:\n",
    "    score,_ = tree.add(ip)\n",
    "    good_scores.append(score)\n",
    "    ax.scatter(2*counter, score, label='benign', color='green', marker='x')\n",
    "    \n",
    "    score,_ = tree.add(malicious_ips[counter % len(malicious_ips)])\n",
    "    bad_scores.append(score)\n",
    "    ax.scatter(2*counter + 1, score, label='malicious', color='red', marker='x')\n",
    "    counter += 1\n",
    "print(\"avg good score\", sum(good_scores)/len(good_scores))\n",
    "print(\"avg bad score\", sum(bad_scores)/len(bad_scores))\n",
    "plt.show()"
   ]
  },
  {
   "cell_type": "markdown",
   "metadata": {},
   "source": [
    "* 1IP -> 0, 32, 32, 32 -> 32\n",
    "* 2IP -> 0, 0, 31, 31, 31, 31, 31 -> 31\n",
    "* 3IP -> 0, 0, 0, 32, 30, 31, 32, 31, 31, 32, 31, 32, 32, 31, 32, 32, 31, 32, 32, 31,-> 31.6\n",
    "* 4IP -> 0, 0, 0, 0, 30, 30, 30, 30 -> 30\n",
    "* 5IP -> 32.0, 32.0, 30.0, 31.0, 30.0, 32.0, 32.0, 30.0, 31.0, 30.0, -> 30.9\n",
    "* 6IP -> 31.0, 31.0, 31.0, 31.0, 30.0, 30.0, 31.0, 31.0, 31.0, 31.0, 30.0, 30.0, 31.0, 31.0, 31.0, 31.0, 30.0, 30.0 -> 30.6\n",
    "* 7IP -> 31.0, 32.0, 30.0, 32.0, 30.0, 31.0, 32.0, 31.0, 32.0, 30.0, 32.0, 31.0, 31.0, 32.0 -> 30.8\n",
    "* 8IP -> 29 -> 29\n",
    "* 16IP -> 28\n",
    "* 27 IP -> \n",
    "* 32IP -> 27\n",
    "* 64IP -> 26\n",
    "\n"
   ]
  },
  {
   "cell_type": "code",
   "execution_count": 5,
   "metadata": {},
   "outputs": [
    {
     "name": "stdout",
     "output_type": "stream",
     "text": [
      "[0.0, 0.0, 0.0, 32.0, 30.0, 31.0, 32.0, 31.0, 31.0, 32.0, 31.0, 32.0, 32.0, 31.0, 32.0, 32.0, 31.0, 32.0, 32.0, 31.0]\n",
      "avg good score 31.470588235294116\n"
     ]
    },
    {
     "data": {
      "image/png": "[encoded data removed]",
      "text/plain": [
       "<Figure size 432x288 with 1 Axes>"
      ]
     },
     "metadata": {
      "needs_background": "light"
     },
     "output_type": "display_data"
    }
   ],
   "source": [
    "from TreeMichal import *\n",
    "\n",
    "ips = generate_IPs(3)\n",
    "tree = TreeMichal()\n",
    "#plotting\n",
    "fig = plt.figure()\n",
    "ax = fig.add_subplot()\n",
    "\n",
    "counter = 0\n",
    "good_scores = []\n",
    "\n",
    "for i in range(0, 10):\n",
    "    ip = ips[i % len(ips)]\n",
    "    score,_ = tree.add(ip)\n",
    "    good_scores.append(score)\n",
    "    ax.scatter(counter, score, label='score2, benign', color='blue', marker='x')\n",
    "    \n",
    "    counter += 1\n",
    "good_scores = [x * 32 for x in good_scores]\n",
    "print(good_scores)\n",
    "print(\"avg good score\", sum(good_scores[len(ips):])/len(good_scores[len(ips):]))\n",
    "plt.show()"
   ]
  },
  {
   "cell_type": "markdown",
   "metadata": {},
   "source": [
    "This is an average score received by benign and malicious population based on the number of distinct malicious IPs. Note that it does not depend on the number of IPs. Only on the IP ratio used by benign and malicious requests."
   ]
  },
  {
   "cell_type": "code",
   "execution_count": 6,
   "metadata": {},
   "outputs": [
    {
     "name": "stdout",
     "output_type": "stream",
     "text": [
      "There are 20 ips and 20 distinct ips.\n"
     ]
    },
    {
     "ename": "TypeError",
     "evalue": "cannot unpack non-iterable NoneType object",
     "output_type": "error",
     "traceback": [
      "\u001b[0;31m---------------------------------------------------------------------------\u001b[0m",
      "\u001b[0;31mTypeError\u001b[0m                                 Traceback (most recent call last)",
      "\u001b[1;32m/home/harnen/work/louvain/ethereum2/p2p-service-discovery/service-discovery/simulator_python/ip_score_problem.ipynb Cell 14'\u001b[0m in \u001b[0;36m<cell line: 43>\u001b[0;34m()\u001b[0m\n\u001b[1;32m     <a href='vscode-notebook-cell:/home/harnen/work/louvain/ethereum2/p2p-service-discovery/service-discovery/simulator_python/ip_score_problem.ipynb#ch0000011?line=40'>41</a>\u001b[0m fig \u001b[39m=\u001b[39m plt\u001b[39m.\u001b[39mfigure()\n\u001b[1;32m     <a href='vscode-notebook-cell:/home/harnen/work/louvain/ethereum2/p2p-service-discovery/service-discovery/simulator_python/ip_score_problem.ipynb#ch0000011?line=41'>42</a>\u001b[0m ax \u001b[39m=\u001b[39m fig\u001b[39m.\u001b[39madd_subplot()\n\u001b[0;32m---> <a href='vscode-notebook-cell:/home/harnen/work/louvain/ethereum2/p2p-service-discovery/service-discovery/simulator_python/ip_score_problem.ipynb#ch0000011?line=42'>43</a>\u001b[0m x, y_good, y_malicious \u001b[39m=\u001b[39m compare_average_score(\u001b[39m20\u001b[39m, ax, \u001b[39m'\u001b[39m\u001b[39mgreen\u001b[39m\u001b[39m'\u001b[39m, \u001b[39m'\u001b[39m\u001b[39mred\u001b[39m\u001b[39m'\u001b[39m)\n\u001b[1;32m     <a href='vscode-notebook-cell:/home/harnen/work/louvain/ethereum2/p2p-service-discovery/service-discovery/simulator_python/ip_score_problem.ipynb#ch0000011?line=43'>44</a>\u001b[0m x, y_good, y_malicious \u001b[39m=\u001b[39m compare_average_score(\u001b[39m50\u001b[39m, ax, \u001b[39m'\u001b[39m\u001b[39mblack\u001b[39m\u001b[39m'\u001b[39m, \u001b[39m'\u001b[39m\u001b[39mviolet\u001b[39m\u001b[39m'\u001b[39m)\n\u001b[1;32m     <a href='vscode-notebook-cell:/home/harnen/work/louvain/ethereum2/p2p-service-discovery/service-discovery/simulator_python/ip_score_problem.ipynb#ch0000011?line=44'>45</a>\u001b[0m x, y_good, y_malicious \u001b[39m=\u001b[39m compare_average_score(\u001b[39m500\u001b[39m, ax, \u001b[39m'\u001b[39m\u001b[39mblue\u001b[39m\u001b[39m'\u001b[39m, \u001b[39m'\u001b[39m\u001b[39morange\u001b[39m\u001b[39m'\u001b[39m)\n",
      "\u001b[0;31mTypeError\u001b[0m: cannot unpack non-iterable NoneType object"
     ]
    },
    {
     "data": {
      "image/png": "[encoded data removed]",
      "text/plain": [
       "<Figure size 432x288 with 1 Axes>"
      ]
     },
     "metadata": {
      "needs_background": "light"
     },
     "output_type": "display_data"
    }
   ],
   "source": [
    "#!/usr/bin/python3 \n",
    "\n",
    "import math\n",
    "import matplotlib.pyplot as plt\n",
    "import random\n",
    "\n",
    "from TreeMichal import *\n",
    "\n",
    "def compare_average_score(ip_num, ax, benign_color, malicious_color):\n",
    "    ips = generate_IPs(ip_num)\n",
    "    print(\"There are\",len(ips), \"ips and\", len(set(ips)), \"distinct ips.\")\n",
    "    x, y_good, y_malicious = [], [], []\n",
    "    for malicious_ips_num in range(1, len(ips)+1):\n",
    "        return\n",
    "        tree = TreeMichal()\n",
    "        scores = []\n",
    "        counter = 0\n",
    "        good_scores = []\n",
    "        bad_scores = []\n",
    "        ratio = len(ips)/malicious_ips_num\n",
    "        malicious_ips = set()\n",
    "        while(len(malicious_ips) < malicious_ips_num):\n",
    "            malicious_ips.add(ips[random.randint(0, len(ips)-1)])\n",
    "        malicious_ips = list(malicious_ips)\n",
    "\n",
    "        for ip in ips:\n",
    "            score,_ = tree.add(ip)\n",
    "            good_scores.append(score)\n",
    "        \n",
    "            score,_ = tree.add(malicious_ips[counter % len(malicious_ips)])\n",
    "            bad_scores.append(score)\n",
    "            counter += 1\n",
    "\n",
    "        ax.scatter(malicious_ips_num/len(ips), sum(good_scores)/len(good_scores), label='good', color=benign_color)\n",
    "        ax.scatter(malicious_ips_num/len(ips), sum(bad_scores)/len(bad_scores), label='malicious', color=malicious_color)\n",
    "        x.append(malicious_ips_num/len(ips))\n",
    "        y_good.append(sum(good_scores)/len(good_scores))\n",
    "        y_malicious.append(sum(bad_scores)/len(bad_scores))\n",
    "    return x, y_good, y_malicious\n",
    "\n",
    "fig = plt.figure()\n",
    "ax = fig.add_subplot()\n",
    "x, y_good, y_malicious = compare_average_score(20, ax, 'green', 'red')\n",
    "x, y_good, y_malicious = compare_average_score(50, ax, 'black', 'violet')\n",
    "x, y_good, y_malicious = compare_average_score(500, ax, 'blue', 'orange')\n",
    "\n",
    "\n",
    "\n",
    "ax.set_xlabel('Malicious IPs/Honest IPs')\n",
    "ax.set_ylabel('Average IP score')\n",
    "plt.show()"
   ]
  },
  {
   "cell_type": "code",
   "execution_count": null,
   "metadata": {},
   "outputs": [
    {
     "ename": "",
     "evalue": "",
     "output_type": "error",
     "traceback": [
      "\u001b[1;31mThe Kernel crashed while executing code in the the current cell or a previous cell. Please review the code in the cell(s) to identify a possible cause of the failure. Click <a href='https://aka.ms/vscodeJupyterKernelCrash'>here</a> for more info. View Jupyter <a href='command:jupyter.viewOutput'>log</a> for further details."
     ]
    },
    {
     "ename": "",
     "evalue": "",
     "output_type": "error",
     "traceback": [
      "\u001b[1;31mCanceled future for execute_request message before replies were done"
     ]
    }
   ],
   "source": [
    "\n",
    "from lmfit import Model\n",
    "\n",
    "def funcm(x, a, b, c):\n",
    "    return a/(x+c) + b\n",
    "\n",
    "def funcg(x, a, b, c, d):\n",
    "    return (a*x +b)/(c*x+d)\n",
    "\n",
    "m = Model(funcm)\n",
    "params = m.make_params(a=1, b=0.5, c=1)\n",
    "result = m.fit(y_malicious, params, x=x)\n",
    "print(result.fit_report())\n",
    "\n",
    "# make a stacked plot of residual and data + fit\n",
    "result.plot()\n",
    "plt.show()"
   ]
  }
 ],
 "metadata": {
  "interpreter": {
   "hash": "31f2aee4e71d21fbe5cf8b01ff0e069b9275f58929596ceb00d14d90e3e16cd6"
  },
  "kernelspec": {
   "display_name": "Python 3.8.10 64-bit",
   "language": "python",
   "name": "python3"
  },
  "language_info": {
   "codemirror_mode": {
    "name": "ipython",
    "version": 3
   },
   "file_extension": ".py",
   "mimetype": "text/x-python",
   "name": "python",
   "nbconvert_exporter": "python",
   "pygments_lexer": "ipython3",
   "version": "3.8.10"
  },
  "orig_nbformat": 4
 },
 "nbformat": 4,
 "nbformat_minor": 2
}

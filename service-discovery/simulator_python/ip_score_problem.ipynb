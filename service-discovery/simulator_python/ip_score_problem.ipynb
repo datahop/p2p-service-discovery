{
 "cells": [
  {
   "cell_type": "markdown",
   "metadata": {},
   "source": [
    "# IP Storage\n",
    "\n",
    "We consider a storage for IP addresses. The storage supports `add` and `delete` operations. The storage is implemented as a binary tree with a root + 32 levels. Each node in the tree has a counter initially set to 0. Each non-leaf node has two outgoing edges despicted '0' and '1'. To add an IP we:\n",
    "* convert the IP to a 32-bit binary form\n",
    "* We traverse the tree from the root to the leaf following the edges as indicated by the IP binary form. For instance an IP starting with `101...` will first go to root, then go to level 1 via edge `1`, then go to level 2 via edge `0`, then go to level 3 via edge `1` and so on\n",
    "* We increment the counter by 1 at each traversed node. \n",
    "\n",
    "Note that the root counter holds the total number of IPs in the tree. \n",
    "\n",
    "The `delete` method operates in the same way, but decreases the counter rather than increasing them. \n",
    "\n",
    "## IP Score\n",
    "Adding an IP address via `add` returns a similarity score (from 0 to 1). It provides of similarity measure between the IP being added and IP addresses already in the storage. Intuitively, high similarity scores (close to 1) means that the IP being added is very similar to IP addresses already in the table. Low scores (close to 0) indicates that the IP being added is very different from IPs already in the table. \n",
    "\n",
    "Before a new IP is added, we calculate a `balanced_counter` for each level of the tree expressed as `balanced_counter(level) = rootCounter / (2^level)`. For instance, if there are 8 IPs in the storage, `balanced_counter(0) = 8 / (2^0) = 8`, `balanced_counter(1) = 8 / (2^1) = 4`, `balanced_counter(2) = 8 / (2^2) = 4` etc. \n",
    "\n",
    "When adding a IP, we create a new variable `score(IP) = 0`. At each encounterd node, we compare the node counter with the `balanced_counter` at the respective level. This is done before incrementing the counter. If the counter is higher than the `balance_counter` we increase the `score(IP)` by 1. An IP can get up to 32 points if such the IPs are already present in the storage. We then normalize the score by dividing it by 32 and return it a the similarity score. \n"
   ]
  },
  {
   "cell_type": "markdown",
   "metadata": {},
   "source": []
  },
  {
   "cell_type": "markdown",
   "metadata": {},
   "source": [
    "Below, we create helper function to generate diverse IP and should get very low similarity score when added to the storage. "
   ]
  },
  {
   "cell_type": "code",
   "execution_count": 12,
   "metadata": {},
   "outputs": [],
   "source": [
    "#!/usr/bin/python3 \n",
    "import matplotlib.pyplot as plt\n",
    "from TreeMichal import *\n",
    "import math\n",
    "\n",
    "# helper function to flip a bit written as a string/character\n",
    "def flip(b):\n",
    "    assert(b == '0' or b == '1')\n",
    "    if (b == '0'):\n",
    "        return '1'\n",
    "    return '0'\n",
    "\n",
    "# generates a specified amount of IPs that will get the lowest possible score in the IP tree\n",
    "def generate_IPs(n):\n",
    "    ips = []\n",
    "    init_ip = list('1'*32)\n",
    "    for i in range(0, n):\n",
    "        for j in range(0, len(init_ip)):\n",
    "            if((i % (2**j)) == 0):\n",
    "                init_ip[j] = flip(init_ip[j])\n",
    "        \n",
    "        ip_str = ''\n",
    "        for octet in range(0, 4):\n",
    "            offset = octet*8\n",
    "            octet_str = str(int(''.join(init_ip[offset:offset + 8]), 2))\n",
    "            ip_str  = ip_str + '.' + octet_str\n",
    "        #remove the first '.'\n",
    "        ips.append(ip_str[1:])\n",
    "    return ips\n",
    "#generates IPs number of distinct ip_num addresses and adds reg_num number of registration\n",
    "# to the tree. \n",
    "# Returns the average score obtained by all the (rescaled to [0, 32] range)\n",
    "def add_with_avg_score(ip_num, reg_num):\n",
    "    ips = generate_IPs(ip_num)\n",
    "    tree = TreeMichal()\n",
    "    scores = []\n",
    "    for i in range(0, reg_num):\n",
    "        ip = ips[i % len(ips)]\n",
    "        score,_ = tree.add(ip)\n",
    "        scores.append(score)\n",
    "    \n",
    "    scores = [x * 32 for x in scores]\n",
    "    return sum(scores)/len(scores)\n",
    "def model_avg_score(ip_num, reg_num):\n",
    "    return ((32 - math.log(ip_num, 2)) * (reg_num - ip_num)) / reg_num\n"
   ]
  },
  {
   "cell_type": "code",
   "execution_count": 3,
   "metadata": {},
   "outputs": [
    {
     "name": "stdout",
     "output_type": "stream",
     "text": [
      "0.0 =? 0.0\n",
      "28.8 =? 28.8\n"
     ]
    },
    {
     "data": {
      "image/png": "[encoded data removed]",
      "text/plain": [
       "<Figure size 432x288 with 1 Axes>"
      ]
     },
     "metadata": {
      "needs_background": "light"
     },
     "output_type": "display_data"
    }
   ],
   "source": [
    "import numpy as np\n",
    "\n",
    "print(add_with_avg_score(10, 10), \"=?\", model_avg_score(10 ,10))\n",
    "print(add_with_avg_score(1, 10), \"=?\", model_avg_score(1 ,10))\n",
    "\n",
    "fig = plt.figure()\n",
    "ax = fig.add_subplot()\n",
    "\n",
    "max_regs = 200\n",
    "\n",
    "colors = ['r', 'g', 'b']\n",
    "#the below is just for the legend\n",
    "ax.scatter(0, 0, color='black', marker='x', label='empirical')\n",
    "i = 0\n",
    "for ip_num in [1, 10, 50]:\n",
    "    x = np.linspace(ip_num,max_regs,100)\n",
    "    y = ((32 - math.log(ip_num, 2)) * (x - ip_num)) / x\n",
    "    plt.plot(x,y, colors[i], label='model, ip_num='+str(ip_num))\n",
    "    for reg_num in range(ip_num, max_regs + 1, 4):\n",
    "         ax.scatter(reg_num, add_with_avg_score(ip_num, reg_num), color=colors[i], marker='x')\n",
    "\n",
    "\n",
    "    i += 1\n",
    "\n",
    "ax.set_xlabel(\"#Registrations\")\n",
    "ax.set_ylabel(\"Avg Score\")\n",
    "plt.legend()\n",
    "plt.show()\n"
   ]
  },
  {
   "cell_type": "markdown",
   "metadata": {},
   "source": [
    "When we add uniquely diverse IPs, the score is always 0 (as it should be):"
   ]
  },
  {
   "cell_type": "code",
   "execution_count": 4,
   "metadata": {},
   "outputs": [
    {
     "name": "stdout",
     "output_type": "stream",
     "text": [
      "avg good score 0.0\n"
     ]
    },
    {
     "data": {
      "image/png": "[encoded data removed]",
      "text/plain": [
       "<Figure size 432x288 with 1 Axes>"
      ]
     },
     "metadata": {
      "needs_background": "light"
     },
     "output_type": "display_data"
    }
   ],
   "source": [
    "\n",
    "\n",
    "ips = generate_IPs(50)\n",
    "tree = TreeMichal()\n",
    "#plotting\n",
    "fig = plt.figure()\n",
    "ax = fig.add_subplot()\n",
    "\n",
    "counter = 0\n",
    "good_scores = []\n",
    "\n",
    "for ip in ips:\n",
    "    score,_ = tree.add(ip)\n",
    "    good_scores.append(score)\n",
    "    ax.scatter(counter, score, label='score2, benign', color='blue', marker='x')\n",
    "    \n",
    "    counter += 1\n",
    "print(\"avg good score\", sum(good_scores)/len(good_scores))\n",
    "plt.show()"
   ]
  },
  {
   "cell_type": "markdown",
   "metadata": {},
   "source": [
    "We consider two populations of requests. Malicious and benign. The benign one will add uniquely different IPs. The malicious ones, will make the same amount of requests but will try to add a number of IPs lower than the number of requests.\n",
    "\n",
    "This is what happens when \"malicious\" requests use only 1 IP address. They get almost uniquely 1 as a similarity score, but it also increases the score for some of the honest requests."
   ]
  },
  {
   "cell_type": "code",
   "execution_count": 6,
   "metadata": {},
   "outputs": [
    {
     "name": "stdout",
     "output_type": "stream",
     "text": [
      "avg good score 0.115625\n",
      "avg bad score 0.9\n"
     ]
    },
    {
     "data": {
      "image/png": "[encoded data removed]",
      "text/plain": [
       "<Figure size 432x288 with 1 Axes>"
      ]
     },
     "metadata": {
      "needs_background": "light"
     },
     "output_type": "display_data"
    }
   ],
   "source": [
    "import random\n",
    "from TreeMichal import *\n",
    "\n",
    "ips = generate_IPs(10)\n",
    "malicious_ips_num = 1\n",
    "malicious_ips = set()\n",
    "while(len(malicious_ips) < malicious_ips_num):\n",
    "    malicious_ips.add(ips[random.randint(0, len(ips)-1)])\n",
    "    malicious_ips = list(malicious_ips)\n",
    "\n",
    "#plotting\n",
    "fig = plt.figure()\n",
    "ax = fig.add_subplot()\n",
    "\n",
    "tree = TreeMichal()\n",
    "counter = 0\n",
    "good_scores = []\n",
    "bad_scores = []\n",
    "\n",
    "for ip in ips:\n",
    "    score,_ = tree.add(ip)\n",
    "    good_scores.append(score)\n",
    "    ax.scatter(2*counter, score, label='benign', color='green', marker='x')\n",
    "    \n",
    "    score,_ = tree.add(malicious_ips[counter % len(malicious_ips)])\n",
    "    bad_scores.append(score)\n",
    "    ax.scatter(2*counter + 1, score, label='malicious', color='red', marker='x')\n",
    "    counter += 1\n",
    "print(\"avg good score\", sum(good_scores)/len(good_scores))\n",
    "print(\"avg bad score\", sum(bad_scores)/len(bad_scores))\n",
    "plt.show()"
   ]
  },
  {
   "cell_type": "markdown",
   "metadata": {},
   "source": [
    "Increasing the number of different IPs used by the malicious requests makes the two score more similar. "
   ]
  },
  {
   "cell_type": "code",
   "execution_count": 11,
   "metadata": {},
   "outputs": [
    {
     "name": "stdout",
     "output_type": "stream",
     "text": [
      "avg good score 0.0703125\n",
      "avg bad score 0.9515625\n"
     ]
    },
    {
     "data": {
      "image/png": "[encoded data removed]",
      "text/plain": [
       "<Figure size 432x288 with 1 Axes>"
      ]
     },
     "metadata": {
      "needs_background": "light"
     },
     "output_type": "display_data"
    }
   ],
   "source": [
    "import random\n",
    "from TreeMichal import *\n",
    "\n",
    "ips = generate_IPs(20)\n",
    "malicious_ips_num = 1\n",
    "malicious_ips = set()\n",
    "while(len(malicious_ips) < malicious_ips_num):\n",
    "    malicious_ips.add(ips[random.randint(0, len(ips)-1)])\n",
    "malicious_ips = list(malicious_ips)\n",
    "\n",
    "#plotting\n",
    "fig = plt.figure()\n",
    "ax = fig.add_subplot()\n",
    "\n",
    "tree = TreeMichal()\n",
    "counter = 0\n",
    "good_scores = []\n",
    "bad_scores = []\n",
    "\n",
    "for ip in ips:\n",
    "    score,_ = tree.add(ip)\n",
    "    good_scores.append(score)\n",
    "    ax.scatter(2*counter, score, label='benign', color='green', marker='x')\n",
    "    \n",
    "    score,_ = tree.add(malicious_ips[counter % len(malicious_ips)])\n",
    "    bad_scores.append(score)\n",
    "    ax.scatter(2*counter + 1, score, label='malicious', color='red', marker='x')\n",
    "    counter += 1\n",
    "print(\"avg good score\", sum(good_scores)/len(good_scores))\n",
    "print(\"avg bad score\", sum(bad_scores)/len(bad_scores))\n",
    "plt.show()"
   ]
  },
  {
   "cell_type": "markdown",
   "metadata": {},
   "source": [
    "* 1IP -> 0, 32, 32, 32 -> 32\n",
    "* 2IP -> 0, 0, 31, 31, 31, 31, 31 -> 31\n",
    "* 3IP -> 0, 0, 0, 32, 30, 31, 32, 31, 31, 32, 31, 32, 32, 31, 32, 32, 31, 32, 32, 31,-> 31.6\n",
    "* 4IP -> 0, 0, 0, 0, 30, 30, 30, 30 -> 30\n",
    "* 5IP -> 32.0, 32.0, 30.0, 31.0, 30.0, 32.0, 32.0, 30.0, 31.0, 30.0, -> 30.9\n",
    "* 6IP -> 31.0, 31.0, 31.0, 31.0, 30.0, 30.0, 31.0, 31.0, 31.0, 31.0, 30.0, 30.0, 31.0, 31.0, 31.0, 31.0, 30.0, 30.0 -> 30.6\n",
    "* 7IP -> 31.0, 32.0, 30.0, 32.0, 30.0, 31.0, 32.0, 31.0, 32.0, 30.0, 32.0, 31.0, 31.0, 32.0 -> 30.8\n",
    "* 8IP -> 29 -> 29\n",
    "* 16IP -> 28\n",
    "* 27 IP -> \n",
    "* 32IP -> 27\n",
    "* 64IP -> 26\n",
    "\n"
   ]
  },
  {
   "cell_type": "code",
   "execution_count": 5,
   "metadata": {},
   "outputs": [
    {
     "name": "stdout",
     "output_type": "stream",
     "text": [
      "[0.0, 0.0, 31.0, 31.0, 31.0, 31.0, 31.0, 31.0, 31.0, 31.0]\n",
      "avg good score 31.0\n"
     ]
    },
    {
     "data": {
      "image/png": "[encoded data removed]",
      "text/plain": [
       "<Figure size 432x288 with 1 Axes>"
      ]
     },
     "metadata": {
      "needs_background": "light"
     },
     "output_type": "display_data"
    }
   ],
   "source": [
    "from TreeMichal import *\n",
    "\n",
    "ips = generate_IPs(2)\n",
    "tree = TreeMichal()\n",
    "#plotting\n",
    "fig = plt.figure()\n",
    "ax = fig.add_subplot()\n",
    "\n",
    "counter = 0\n",
    "good_scores = []\n",
    "\n",
    "for i in range(0, 10):\n",
    "    ip = ips[i % len(ips)]\n",
    "    score,_ = tree.add(ip)\n",
    "    good_scores.append(score)\n",
    "    ax.scatter(counter, score, label='score2, benign', color='blue', marker='x')\n",
    "    \n",
    "    counter += 1\n",
    "good_scores = [x * 32 for x in good_scores]\n",
    "print(good_scores)\n",
    "print(\"avg good score\", sum(good_scores[len(ips):])/len(good_scores[len(ips):]))\n",
    "plt.show()"
   ]
  },
  {
   "cell_type": "markdown",
   "metadata": {},
   "source": [
    "This is an average score received by benign and malicious population based on the number of distinct malicious IPs. Note that it does not depend on the number of IPs. Only on the IP ratio used by benign and malicious requests."
   ]
  },
  {
   "cell_type": "code",
   "execution_count": 8,
   "metadata": {},
   "outputs": [
    {
     "name": "stdout",
     "output_type": "stream",
     "text": [
      "There are 20 ips and 20 distinct ips.\n",
      "There are 50 ips and 50 distinct ips.\n",
      "There are 500 ips and 500 distinct ips.\n"
     ]
    },
    {
     "data": {
      "image/png": "[encoded data removed]",
      "text/plain": [
       "<Figure size 432x288 with 1 Axes>"
      ]
     },
     "metadata": {
      "needs_background": "light"
     },
     "output_type": "display_data"
    }
   ],
   "source": [
    "#!/usr/bin/python3 \n",
    "\n",
    "import math\n",
    "import matplotlib.pyplot as plt\n",
    "import random\n",
    "\n",
    "from TreeMichal import *\n",
    "\n",
    "def compare_average_score(ip_num, ax, benign_color, malicious_color):\n",
    "    ips = generate_IPs(ip_num)\n",
    "    print(\"There are\",len(ips), \"ips and\", len(set(ips)), \"distinct ips.\")\n",
    "    x, y_good, y_malicious = [], [], []\n",
    "    for malicious_ips_num in range(1, len(ips)+1):\n",
    "        tree = TreeMichal()\n",
    "        scores = []\n",
    "        counter = 0\n",
    "        good_scores = []\n",
    "        bad_scores = []\n",
    "        ratio = len(ips)/malicious_ips_num\n",
    "        malicious_ips = set()\n",
    "        while(len(malicious_ips) < malicious_ips_num):\n",
    "            malicious_ips.add(ips[random.randint(0, len(ips)-1)])\n",
    "        malicious_ips = list(malicious_ips)\n",
    "\n",
    "        for ip in ips:\n",
    "            score,_ = tree.add(ip)\n",
    "            good_scores.append(score)\n",
    "        \n",
    "            score,_ = tree.add(malicious_ips[counter % len(malicious_ips)])\n",
    "            bad_scores.append(score)\n",
    "            counter += 1\n",
    "\n",
    "        ax.scatter(malicious_ips_num/len(ips), sum(good_scores)/len(good_scores), label='good', color=benign_color)\n",
    "        ax.scatter(malicious_ips_num/len(ips), sum(bad_scores)/len(bad_scores), label='malicious', color=malicious_color)\n",
    "        x.append(malicious_ips_num/len(ips))\n",
    "        y_good.append(sum(good_scores)/len(good_scores))\n",
    "        y_malicious.append(sum(bad_scores)/len(bad_scores))\n",
    "    return x, y_good, y_malicious\n",
    "\n",
    "fig = plt.figure()\n",
    "ax = fig.add_subplot()\n",
    "x, y_good, y_malicious = compare_average_score(20, ax, 'green', 'red')\n",
    "x, y_good, y_malicious = compare_average_score(50, ax, 'black', 'violet')\n",
    "x, y_good, y_malicious = compare_average_score(500, ax, 'blue', 'orange')\n",
    "\n",
    "\n",
    "\n",
    "ax.set_xlabel('Malicious IPs/Honest IPs')\n",
    "ax.set_ylabel('Average IP score')\n",
    "plt.show()"
   ]
  },
  {
   "cell_type": "code",
   "execution_count": 25,
   "metadata": {},
   "outputs": [
    {
     "name": "stdout",
     "output_type": "stream",
     "text": [
      "[0.0, 1.0, 2.0, 0.0, 5.0, 0.0, 0.0, 4.0, 0.0, 2.0, 0.0, 6.0, 1.0, 0.0, 1.0, 3.0, 1.0, 0.0, 4.0, 5.0, 1.0, 0.0, 0.0, 2.0, 3.0, 3.0, 1.0, 3.0, 3.0, 1.0, 0.0, 4.0, 1.0, 3.0, 1.0, 0.0, 2.0, 5.0, 3.0, 1.0, 0.0, 2.0, 2.0, 2.0, 3.0, 2.0, 3.0, 1.0, 2.0, 3.0, 1.0, 4.0, 2.0, 5.0, 1.0, 1.0, 4.0, 3.0, 0.0, 0.0, 2.0, 6.0, 1.0, 1.0, 0.0, 1.0, 2.0, 2.0, 4.0, 0.0, 3.0, 3.0, 1.0, 1.0, 1.0, 2.0, 4.0, 0.0, 0.0, 4.0, 2.0, 2.0, 1.0, 1.0, 2.0, 2.0, 5.0, 1.0, 0.0, 0.0, 1.0, 3.0, 1.0, 0.0, 2.0, 0.0, 0.0, 0.0, 0.0, 0.0]\n"
     ]
    },
    {
     "data": {
      "image/png": "[encoded data removed]",
      "text/plain": [
       "<Figure size 432x288 with 1 Axes>"
      ]
     },
     "metadata": {
      "needs_background": "light"
     },
     "output_type": "display_data"
    }
   ],
   "source": [
    "import scipy.special\n",
    "import matplotlib.pyplot as plt\n",
    "import random\n",
    "\n",
    "def P_balanced(n):\n",
    "    return scipy.special.comb(n, n/2) / 2**n\n",
    "\n",
    "def situation1(n):\n",
    "    result = 32\n",
    "    for i in range(0, 32):\n",
    "        result -= P_balanced(n / 2**i)\n",
    "    return result\n",
    "\n",
    "fig = plt.figure()\n",
    "ax = fig.add_subplot()\n",
    "\n",
    "max_val = 100\n",
    "ips = generate_IPs(max_val)\n",
    "tree = TreeMichal()\n",
    "ip_scores = []\n",
    "for i in range(1, max_val+1):\n",
    "    ip_score, _ = tree.add(ips.pop(random.randint(0, len(ips)-1)))\n",
    "    ip_scores.append(ip_score*32)\n",
    "    ax.scatter(i, situation1(i), label='situation1', color='blue', marker='o')\n",
    "    ax.scatter(i, sum(ip_scores)/len(ip_scores), label='empirical', color='red', marker='x')\n",
    "\n",
    "ax.set_xlabel('n')\n",
    "ax.set_ylabel('Mean score received by a random IP')  \n",
    "ax.set_title(\"Situation 1\")\n",
    "print(ip_scores)\n",
    "plt.show()\n"
   ]
  },
  {
   "cell_type": "code",
   "execution_count": 13,
   "metadata": {},
   "outputs": [
    {
     "ename": "TypeError",
     "evalue": "P_balanced() missing 1 required positional argument: 'm'",
     "output_type": "error",
     "traceback": [
      "\u001b[0;31m---------------------------------------------------------------------------\u001b[0m",
      "\u001b[0;31mTypeError\u001b[0m                                 Traceback (most recent call last)",
      "\u001b[1;32m/home/harnen/work/city/p2p-service-discovery/service-discovery/simulator_python/ip_score_problem.ipynb Cell 17'\u001b[0m in \u001b[0;36m<cell line: 17>\u001b[0;34m()\u001b[0m\n\u001b[1;32m     <a href='vscode-notebook-cell:/home/harnen/work/city/p2p-service-discovery/service-discovery/simulator_python/ip_score_problem.ipynb#ch0000016?line=15'>16</a>\u001b[0m max_val \u001b[39m=\u001b[39m \u001b[39m1000\u001b[39m\n\u001b[1;32m     <a href='vscode-notebook-cell:/home/harnen/work/city/p2p-service-discovery/service-discovery/simulator_python/ip_score_problem.ipynb#ch0000016?line=16'>17</a>\u001b[0m \u001b[39mfor\u001b[39;00m i \u001b[39min\u001b[39;00m \u001b[39mrange\u001b[39m(\u001b[39m1\u001b[39m, max_val\u001b[39m+\u001b[39m\u001b[39m1\u001b[39m):\n\u001b[0;32m---> <a href='vscode-notebook-cell:/home/harnen/work/city/p2p-service-discovery/service-discovery/simulator_python/ip_score_problem.ipynb#ch0000016?line=18'>19</a>\u001b[0m     ax\u001b[39m.\u001b[39mscatter(i, situation1(i), label\u001b[39m=\u001b[39m\u001b[39m'\u001b[39m\u001b[39msituation1\u001b[39m\u001b[39m'\u001b[39m, color\u001b[39m=\u001b[39m\u001b[39m'\u001b[39m\u001b[39mblue\u001b[39m\u001b[39m'\u001b[39m, marker\u001b[39m=\u001b[39m\u001b[39m'\u001b[39m\u001b[39mo\u001b[39m\u001b[39m'\u001b[39m)\n\u001b[1;32m     <a href='vscode-notebook-cell:/home/harnen/work/city/p2p-service-discovery/service-discovery/simulator_python/ip_score_problem.ipynb#ch0000016?line=20'>21</a>\u001b[0m ax\u001b[39m.\u001b[39mset_xlabel(\u001b[39m'\u001b[39m\u001b[39mn\u001b[39m\u001b[39m'\u001b[39m)\n\u001b[1;32m     <a href='vscode-notebook-cell:/home/harnen/work/city/p2p-service-discovery/service-discovery/simulator_python/ip_score_problem.ipynb#ch0000016?line=21'>22</a>\u001b[0m ax\u001b[39m.\u001b[39mset_ylabel(\u001b[39m'\u001b[39m\u001b[39mMean score received by a random IP\u001b[39m\u001b[39m'\u001b[39m)  \n",
      "\u001b[1;32m/home/harnen/work/city/p2p-service-discovery/service-discovery/simulator_python/ip_score_problem.ipynb Cell 11'\u001b[0m in \u001b[0;36msituation1\u001b[0;34m(n)\u001b[0m\n\u001b[1;32m      <a href='vscode-notebook-cell:/home/harnen/work/city/p2p-service-discovery/service-discovery/simulator_python/ip_score_problem.ipynb#ch0000010?line=7'>8</a>\u001b[0m result \u001b[39m=\u001b[39m \u001b[39m32\u001b[39m\n\u001b[1;32m      <a href='vscode-notebook-cell:/home/harnen/work/city/p2p-service-discovery/service-discovery/simulator_python/ip_score_problem.ipynb#ch0000010?line=8'>9</a>\u001b[0m \u001b[39mfor\u001b[39;00m i \u001b[39min\u001b[39;00m \u001b[39mrange\u001b[39m(\u001b[39m0\u001b[39m, \u001b[39m32\u001b[39m):\n\u001b[0;32m---> <a href='vscode-notebook-cell:/home/harnen/work/city/p2p-service-discovery/service-discovery/simulator_python/ip_score_problem.ipynb#ch0000010?line=9'>10</a>\u001b[0m     result \u001b[39m-\u001b[39m\u001b[39m=\u001b[39m P_balanced(n \u001b[39m/\u001b[39;49m \u001b[39m2\u001b[39;49m\u001b[39m*\u001b[39;49m\u001b[39m*\u001b[39;49mi)\n\u001b[1;32m     <a href='vscode-notebook-cell:/home/harnen/work/city/p2p-service-discovery/service-discovery/simulator_python/ip_score_problem.ipynb#ch0000010?line=10'>11</a>\u001b[0m \u001b[39mreturn\u001b[39;00m result\n",
      "\u001b[0;31mTypeError\u001b[0m: P_balanced() missing 1 required positional argument: 'm'"
     ]
    },
    {
     "data": {
      "image/png": "[encoded data removed]",
      "text/plain": [
       "<Figure size 432x288 with 1 Axes>"
      ]
     },
     "metadata": {
      "needs_background": "light"
     },
     "output_type": "display_data"
    }
   ],
   "source": [
    "import scipy.special\n",
    "import matplotlib.pyplot as plt\n",
    "\n",
    "def P_balanced(n, m):\n",
    "    return scipy.special.comb(n-m, n/2) / 2**(n - m)\n",
    "\n",
    "def situation2(n):\n",
    "    result = 32\n",
    "    for i in range(0, 32):\n",
    "        result -= P_balanced(n / 2**i)\n",
    "    return result\n",
    "\n",
    "fig = plt.figure()\n",
    "ax = fig.add_subplot()\n",
    "\n",
    "max_val = 1000\n",
    "for i in range(1, max_val+1):\n",
    "    ax.scatter(i, situation1(i), label='situation1', color='blue', marker='o')\n",
    "\n",
    "ax.set_xlabel('n')\n",
    "ax.set_ylabel('Mean score received by a random IP')  \n",
    "ax.set_title(\"Situation 1\")\n",
    "plt.show()\n"
   ]
  }
 ],
 "metadata": {
  "interpreter": {
   "hash": "31f2aee4e71d21fbe5cf8b01ff0e069b9275f58929596ceb00d14d90e3e16cd6"
  },
  "kernelspec": {
   "display_name": "Python 3.8.10 64-bit",
   "language": "python",
   "name": "python3"
  },
  "language_info": {
   "codemirror_mode": {
    "name": "ipython",
    "version": 3
   },
   "file_extension": ".py",
   "mimetype": "text/x-python",
   "name": "python",
   "nbconvert_exporter": "python",
   "pygments_lexer": "ipython3",
   "version": "3.10.4"
  },
  "orig_nbformat": 4
 },
 "nbformat": 4,
 "nbformat_minor": 2
}

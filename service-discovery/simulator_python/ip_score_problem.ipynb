{
 "cells": [
  {
   "cell_type": "markdown",
   "metadata": {},
   "source": [
    "# IP Storage\n",
    "\n",
    "We consider a storage for IP addresses. The storage supports `add` and `delete` operations. The storage is implemented as a binary tree with a root + 32 levels. Each node in the tree has a counter initially set to 0. Each non-leaf node has two outgoing edges despicted '0' and '1'. To add an IP we:\n",
    "* convert the IP to a 32-bit binary form\n",
    "* We traverse the tree from the root to the leaf following the edges as indicated by the IP binary form. For instance an IP starting with `101...` will first go to root, then go to level 1 via edge `1`, then go to level 2 via edge `0`, then go to level 3 via edge `1` and so on\n",
    "* We increment the counter by 1 at each traversed node. \n",
    "\n",
    "Note that the root counter holds the total number of IPs in the tree. \n",
    "\n",
    "The `delete` method operates in the same way, but decreases the counter rather than increasing them. \n",
    "\n",
    "## IP Score\n",
    "Adding an IP address via `add` returns a similarity score (from 0 to 1). It provides of similarity measure between the IP being added and IP addresses already in the storage. Intuitively, high similarity scores (close to 1) means that the IP being added is very similar to IP addresses already in the table. Low scores (close to 0) indicates that the IP being added is very different from IPs already in the table. \n",
    "\n",
    "Before a new IP is added, we calculate a `balanced_counter` for each level of the tree expressed as `balanced_counter(level) = rootCounter / (2^level)`. For instance, if there are 8 IPs in the storage, `balanced_counter(0) = 8 / (2^0) = 8`, `balanced_counter(1) = 8 / (2^1) = 4`, `balanced_counter(2) = 8 / (2^2) = 4` etc. \n",
    "\n",
    "When adding a IP, we create a new variable `score(IP) = 0`. At each encounterd node, we compare the node counter with the `balanced_counter` at the respective level. This is done before incrementing the counter. If the counter is higher than the `balance_counter` we increase the `score(IP)` by 1. An IP can get up to 32 points if such the IPs are already present in the storage. We then normalize the score by dividing it by 32 and return it a the similarity score. \n"
   ]
  },
  {
   "cell_type": "markdown",
   "metadata": {},
   "source": [
    "Below, we create helper function to generate diverse IP and should get very low similarity score when added to the storage. "
   ]
  },
  {
   "cell_type": "code",
   "execution_count": 1,
   "metadata": {},
   "outputs": [],
   "source": [
    "#!/usr/bin/python3 \n",
    "import matplotlib.pyplot as plt\n",
    "\n",
    "# helper function to flip a bit written as a string/character\n",
    "def flip(b):\n",
    "    assert(b == '0' or b == '1')\n",
    "    if (b == '0'):\n",
    "        return '1'\n",
    "    return '0'\n",
    "\n",
    "# generates a specified amount of IPs that will get the lowest possible score in the IP tree\n",
    "def generate_IPs(n):\n",
    "    ips = []\n",
    "    init_ip = list('1'*32)\n",
    "    for i in range(0, n):\n",
    "        for j in range(0, len(init_ip)):\n",
    "            if((i % (2**j)) == 0):\n",
    "                init_ip[j] = flip(init_ip[j])\n",
    "        \n",
    "        ip_str = ''\n",
    "        for octet in range(0, 4):\n",
    "            offset = octet*8\n",
    "            octet_str = str(int(''.join(init_ip[offset:offset + 8]), 2))\n",
    "            ip_str  = ip_str + '.' + octet_str\n",
    "        #remove the first '.'\n",
    "        ips.append(ip_str[1:])\n",
    "    return ips\n"
   ]
  },
  {
   "cell_type": "markdown",
   "metadata": {},
   "source": [
    "When we add uniquely diverse IPs, the score is always 0 (as it should be):"
   ]
  },
  {
   "cell_type": "code",
   "execution_count": 2,
   "metadata": {},
   "outputs": [
    {
     "name": "stdout",
     "output_type": "stream",
     "text": [
      "avg good score 0.0\n"
     ]
    },
    {
     "data": {
      "image/png": "[encoded data removed]",
      "text/plain": [
       "<Figure size 432x288 with 1 Axes>"
      ]
     },
     "metadata": {
      "needs_background": "light"
     },
     "output_type": "display_data"
    }
   ],
   "source": [
    "from TreeMichal import *\n",
    "\n",
    "ips = generate_IPs(50)\n",
    "tree = TreeMichal()\n",
    "#plotting\n",
    "fig = plt.figure()\n",
    "ax = fig.add_subplot()\n",
    "\n",
    "counter = 0\n",
    "good_scores = []\n",
    "\n",
    "for ip in ips:\n",
    "    score,_ = tree.add(ip)\n",
    "    good_scores.append(score)\n",
    "    ax.scatter(counter, score, label='score2, benign', color='blue', marker='x')\n",
    "    \n",
    "    counter += 1\n",
    "print(\"avg good score\", sum(good_scores)/len(good_scores))\n",
    "plt.show()"
   ]
  },
  {
   "cell_type": "markdown",
   "metadata": {},
   "source": [
    "We consider two populations of requests. Malicious and benign. The benign one will add uniquely different IPs. The malicious ones, will make the same amount of requests but will try to add a number of IPs lower than the number of requests.\n",
    "\n",
    "This is what happens when \"malicious\" requests use only 1 IP address. They get almost uniquely 1 as a similarity score, but it also increases the score for some of the honest requests."
   ]
  },
  {
   "cell_type": "code",
   "execution_count": 3,
   "metadata": {},
   "outputs": [
    {
     "name": "stdout",
     "output_type": "stream",
     "text": [
      "avg good score 0.04625\n",
      "avg bad score 0.98\n"
     ]
    },
    {
     "data": {
      "image/png": "[encoded data removed]",
      "text/plain": [
       "<Figure size 432x288 with 1 Axes>"
      ]
     },
     "metadata": {
      "needs_background": "light"
     },
     "output_type": "display_data"
    }
   ],
   "source": [
    "import random\n",
    "from TreeMichal import *\n",
    "\n",
    "ips = generate_IPs(50)\n",
    "malicious_ips_num = 1\n",
    "malicious_ips = set()\n",
    "while(len(malicious_ips) < malicious_ips_num):\n",
    "    malicious_ips.add(ips[random.randint(0, len(ips)-1)])\n",
    "    malicious_ips = list(malicious_ips)\n",
    "\n",
    "#plotting\n",
    "fig = plt.figure()\n",
    "ax = fig.add_subplot()\n",
    "\n",
    "tree = TreeMichal()\n",
    "counter = 0\n",
    "good_scores = []\n",
    "bad_scores = []\n",
    "\n",
    "for ip in ips:\n",
    "    score,_ = tree.add(ip)\n",
    "    good_scores.append(score)\n",
    "    ax.scatter(2*counter, score, label='benign', color='green', marker='x')\n",
    "    \n",
    "    score,_ = tree.add(malicious_ips[counter % len(malicious_ips)])\n",
    "    bad_scores.append(score)\n",
    "    ax.scatter(2*counter + 1, score, label='malicious', color='red', marker='x')\n",
    "    counter += 1\n",
    "print(\"avg good score\", sum(good_scores)/len(good_scores))\n",
    "print(\"avg bad score\", sum(bad_scores)/len(bad_scores))\n",
    "plt.show()"
   ]
  },
  {
   "cell_type": "markdown",
   "metadata": {},
   "source": [
    "Increasing the number of different IPs used by the malicious requests makes the two score more similar. "
   ]
  },
  {
   "cell_type": "code",
   "execution_count": 7,
   "metadata": {},
   "outputs": [
    {
     "name": "stdout",
     "output_type": "stream",
     "text": [
      "avg good score 0.198125\n",
      "avg bad score 0.8325\n"
     ]
    },
    {
     "data": {
      "image/png": "[encoded data removed]",
      "text/plain": [
       "<Figure size 432x288 with 1 Axes>"
      ]
     },
     "metadata": {
      "needs_background": "light"
     },
     "output_type": "display_data"
    }
   ],
   "source": [
    "import random\n",
    "from TreeMichal import *\n",
    "\n",
    "ips = generate_IPs(50)\n",
    "malicious_ips_num = 10\n",
    "malicious_ips = set()\n",
    "while(len(malicious_ips) < malicious_ips_num):\n",
    "    malicious_ips.add(ips[random.randint(0, len(ips)-1)])\n",
    "malicious_ips = list(malicious_ips)\n",
    "\n",
    "#plotting\n",
    "fig = plt.figure()\n",
    "ax = fig.add_subplot()\n",
    "\n",
    "tree = TreeMichal()\n",
    "counter = 0\n",
    "good_scores = []\n",
    "bad_scores = []\n",
    "\n",
    "for ip in ips:\n",
    "    score,_ = tree.add(ip)\n",
    "    good_scores.append(score)\n",
    "    ax.scatter(2*counter, score, label='benign', color='green', marker='x')\n",
    "    \n",
    "    score,_ = tree.add(malicious_ips[counter % len(malicious_ips)])\n",
    "    bad_scores.append(score)\n",
    "    ax.scatter(2*counter + 1, score, label='malicious', color='red', marker='x')\n",
    "    counter += 1\n",
    "print(\"avg good score\", sum(good_scores)/len(good_scores))\n",
    "print(\"avg bad score\", sum(bad_scores)/len(bad_scores))\n",
    "plt.show()"
   ]
  },
  {
   "cell_type": "code",
   "execution_count": 9,
   "metadata": {},
   "outputs": [
    {
     "name": "stdout",
     "output_type": "stream",
     "text": [
      "There are 1000 ips and 1000 distinct ips.\n"
     ]
    },
    {
     "data": {
      "image/png": "[encoded data removed]",
      "text/plain": [
       "<Figure size 432x288 with 1 Axes>"
      ]
     },
     "metadata": {
      "needs_background": "light"
     },
     "output_type": "display_data"
    }
   ],
   "source": [
    "#!/usr/bin/python3 \n",
    "\n",
    "import math\n",
    "import matplotlib.pyplot as plt\n",
    "import random\n",
    "\n",
    "from TreeMichal import *\n",
    "\n",
    "\n",
    "ips = generate_IPs(1000)\n",
    "print(\"There are\",len(ips), \"ips and\", len(set(ips)), \"distinct ips.\")\n",
    "fig = plt.figure()\n",
    "ax = fig.add_subplot()\n",
    "\n",
    "for malicious_ips_num in range(1, len(ips)+1):\n",
    "    tree = TreeMichal()\n",
    "    scores = []\n",
    "    counter = 0\n",
    "    good_scores = []\n",
    "    bad_scores = []\n",
    "    ratio = len(ips)/malicious_ips_num\n",
    "    malicious_ips = set()\n",
    "    while(len(malicious_ips) < malicious_ips_num):\n",
    "        malicious_ips.add(ips[random.randint(0, len(ips)-1)])\n",
    "    malicious_ips = list(malicious_ips)\n",
    "\n",
    "    for ip in ips:\n",
    "        score,_ = tree.add(ip)\n",
    "        good_scores.append(score)\n",
    "       \n",
    "        score,_ = tree.add(malicious_ips[counter % len(malicious_ips)])\n",
    "        bad_scores.append(score)\n",
    "        counter += 1\n",
    "\n",
    "    ax.scatter(malicious_ips_num/len(ips), sum(good_scores)/len(good_scores), label='good', color='green')\n",
    "    ax.scatter(malicious_ips_num/len(ips), sum(bad_scores)/len(bad_scores), label='malicious', color='red')\n",
    "\n",
    "ax.set_xlabel('Malicious IPs/Honest IPs')\n",
    "ax.set_ylabel('Average IP score')\n",
    "plt.show()"
   ]
  }
 ],
 "metadata": {
  "interpreter": {
   "hash": "31f2aee4e71d21fbe5cf8b01ff0e069b9275f58929596ceb00d14d90e3e16cd6"
  },
  "kernelspec": {
   "display_name": "Python 3.8.10 64-bit",
   "language": "python",
   "name": "python3"
  },
  "language_info": {
   "codemirror_mode": {
    "name": "ipython",
    "version": 3
   },
   "file_extension": ".py",
   "mimetype": "text/x-python",
   "name": "python",
   "nbconvert_exporter": "python",
   "pygments_lexer": "ipython3",
   "version": "3.8.10"
  },
  "orig_nbformat": 4
 },
 "nbformat": 4,
 "nbformat_minor": 2
}

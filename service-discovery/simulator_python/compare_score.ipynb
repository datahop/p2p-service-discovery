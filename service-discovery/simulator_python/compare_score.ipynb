{
 "cells": [
  {
   "cell_type": "code",
   "execution_count": null,
   "metadata": {},
   "outputs": [],
   "source": [
    "from table import *\n",
    "import matplotlib.pyplot as plt\n",
    "from threshold import *\n",
    "from generate_table_workloads import *\n",
    "from matplotlib.lines import Line2D\n",
    "import sys, os\n",
    "counter = 0\n",
    "def generate_input_file(attack, seed):\n",
    "    global honest_size, counter\n",
    "    filename = 'input' + str(counter) + '.csv'\n",
    "    if(attack == 'none'):\n",
    "        generate_workload(honest = honest_size, malicious = 0, seed=seed, output_filename = filename)\n",
    "    elif(attack == 'impatient'):\n",
    "        generate_impatient(size = honest_size, seed=seed, output_filename = filename)\n",
    "    elif(attack == 'spam'):\n",
    "        generate_workload(honest= honest_size, malicious = malicious_size, attacker_ip_num = attacker_ip_id_num, attacker_id_num = malicious_size, attack_topic = 'None', seed=seed, output_filename = filename)\n",
    "    elif(attack == 'topic_popular'):\n",
    "        generate_workload(honest= honest_size, malicious = malicious_size, attacker_ip_num = attacker_ip_id_num, attacker_id_num = malicious_size, attack_topic = 't1', seed=seed, output_filename = filename)\n",
    "    elif(attack == 'topic_unpopular'):\n",
    "        generate_workload(honest= honest_size, malicious = malicious_size, attacker_ip_num = attacker_ip_id_num, attacker_id_num = malicious_size, attack_topic = 't12', seed=seed, output_filename = filename)\n",
    "    else:\n",
    "        print(\"Unknown attack\", attack)\n",
    "        quit(-1)\n",
    "    counter += 1\n",
    "    return filename\n",
    "\n",
    "def restore_default():\n",
    "    global ad_lifetime, input_file, capacity, honest_size, malicious_size, occupancy_power, ip_id_power, topic_power, base_multiplier, attacker_ip_id_num, attacker_id_num\n",
    "    ad_lifetime = 3000\n",
    "    capacity = 300\n",
    "    honest_size = 50\n",
    "    malicious_size = 250\n",
    "    occupancy_power = 5\n",
    "    ip_id_power = 0.5\n",
    "    topic_power = 5\n",
    "    attacker_ip_id_num = 10\n",
    "    base_multiplier = 40\n",
    "\n",
    "\n",
    "runtime = 200 * 1000\n",
    "restore_default()\n",
    "filename = generate_input_file('spam', seed=1)\n",
    "sys.stdout = open(os.devnull, 'w')\n",
    "#filename = 'test.csv'\n",
    "\n",
    "\n"
   ]
  },
  {
   "cell_type": "code",
   "execution_count": null,
   "metadata": {},
   "outputs": [],
   "source": [
    "table = DiversityTable(capacity, ad_lifetime, occupancy_power = occupancy_power, ip_id_power = ip_id_power, topic_power = topic_power, base_multiplier = base_multiplier, tree='default')\n",
    "table.load(filename)\n",
    "table.display(runtime - 1)\n",
    "table.run(runtime)\n",
    "plt.show()"
   ]
  },
  {
   "cell_type": "code",
   "execution_count": null,
   "metadata": {},
   "outputs": [],
   "source": [
    "table = DiversityTable(capacity, ad_lifetime, occupancy_power = occupancy_power, ip_id_power = ip_id_power, topic_power = topic_power, base_multiplier = base_multiplier, tree='michal')\n",
    "table.load(filename)\n",
    "table.display(runtime - 1)\n",
    "table.run(runtime)\n",
    "plt.show()"
   ]
  },
  {
   "cell_type": "code",
   "execution_count": null,
   "metadata": {},
   "outputs": [],
   "source": [
    "table = DiversityTable(capacity, ad_lifetime, occupancy_power = occupancy_power, ip_id_power = ip_id_power, topic_power = topic_power, base_multiplier = base_multiplier, tree='onur')\n",
    "table.load(filename)\n",
    "table.display(runtime - 1)\n",
    "table.run(runtime)\n",
    "plt.show()"
   ]
  }
 ],
 "metadata": {
  "interpreter": {
   "hash": "31f2aee4e71d21fbe5cf8b01ff0e069b9275f58929596ceb00d14d90e3e16cd6"
  },
  "kernelspec": {
   "display_name": "Python 3.8.10 64-bit",
   "language": "python",
   "name": "python3"
  },
  "language_info": {
   "codemirror_mode": {
    "name": "ipython",
    "version": 3
   },
   "file_extension": ".py",
   "mimetype": "text/x-python",
   "name": "python",
   "nbconvert_exporter": "python",
   "pygments_lexer": "ipython3",
   "version": "3.8.10"
  },
  "orig_nbformat": 4
 },
 "nbformat": 4,
 "nbformat_minor": 2
}

{
 "cells": [
  {
   "cell_type": "markdown",
   "metadata": {},
   "source": [
    "# IP Score\n",
    "\n",
    "Currently, we transform each IP into bits and traverse the binary tree summing all the encountered counters (it forms `score(IP)`). The final similarity score for an IP, is given by `score(IP)/max_possible_score`. \n",
    "\n",
    "The problem is that we calculate `max_possible_score` using `32*root_counter`. This is the maximum possible score for a tree with `root_counter` same IPs inside, and not the particular tree in question. For a balance tree, the maximum possible score will be much lower. This is problematic, as for more or less balanced tree, we'll never achieve similarity scores close to 1. Even if the node is being spammed by an attacker. \n",
    "\n",
    "The below shows what's the IP score when there's an attacker creates the same amount of nodes as all the honest nodes but using a single IP. "
   ]
  },
  {
   "cell_type": "code",
   "execution_count": 16,
   "metadata": {},
   "outputs": [
    {
     "name": "stdout",
     "output_type": "stream",
     "text": [
      "There are 50 ips and 50 distinct ips.\n",
      "avg good score 0.1225\n",
      "avg bad score 0.923125\n"
     ]
    },
    {
     "data": {
      "image/png": "[encoded data removed]",
      "text/plain": [
       "<Figure size 432x288 with 1 Axes>"
      ]
     },
     "metadata": {
      "needs_background": "light"
     },
     "output_type": "display_data"
    }
   ],
   "source": [
    "#!/usr/bin/python3 \n",
    "\n",
    "import math\n",
    "import matplotlib.pyplot as plt\n",
    "\n",
    "from Tree import *\n",
    "from TreeOnur import *\n",
    "from TreeMichal import *\n",
    "\n",
    "# helper function to flip a bit written as a string/character\n",
    "def flip(b):\n",
    "    assert(b == '0' or b == '1')\n",
    "    if (b == '0'):\n",
    "        return '1'\n",
    "    return '0'\n",
    "\n",
    "# generates a specified amount of IPs that will get the lowest possible score in the IP tree\n",
    "def generate_IPs(n):\n",
    "    ips = []\n",
    "    init_ip = list('1'*32)\n",
    "    for i in range(0, n):\n",
    "        for j in range(0, len(init_ip)):\n",
    "            if((i % (2**j)) == 0):\n",
    "                init_ip[j] = flip(init_ip[j])\n",
    "        \n",
    "        ip_str = ''\n",
    "        for octet in range(0, 4):\n",
    "            offset = octet*8\n",
    "            octet_str = str(int(''.join(init_ip[offset:offset + 8]), 2))\n",
    "            ip_str  = ip_str + '.' + octet_str\n",
    "        #remove the first '.'\n",
    "        ips.append(ip_str[1:])\n",
    "    return ips\n",
    "\n",
    "ips = generate_IPs(50)\n",
    "#print(ips)\n",
    "print(\"There are\",len(ips), \"ips and\", len(set(ips)), \"distinct ips.\")\n",
    "\n",
    "tree1 = Tree()\n",
    "tree2 = TreeMichal()\n",
    "#tree3 = TreeOnur()\n",
    "scores = []\n",
    "fig = plt.figure()\n",
    "ax = fig.add_subplot()\n",
    "malicious_ips_num = 5\n",
    "\n",
    "counter = 0\n",
    "good_scores = []\n",
    "bad_scores = []\n",
    "ratio = len(ips)/malicious_ips_num\n",
    "for ip in ips:\n",
    "    #score1,_ = tree1.add(ip)\n",
    "    score2,_ = tree2.add(ip)\n",
    "    good_scores.append(score2)\n",
    "    #score3,_ = tree3.add(ip)\n",
    "    #print(\"~~~~~~~~~~~added bening IP\", ip, \"with score\", score2)\n",
    "\n",
    "    #ax.scatter(2*counter, score1, label='score1, benign', color='green')\n",
    "    ax.scatter(2*counter, score2, label='score2, benign', color='blue', marker='x')\n",
    "    #ax.scatter(2*counter, score3, label='score3, benign', color='black', marker='o')\n",
    "    \n",
    "    #score1,_ = tree1.add(ips[counter % malicious_ips_num])\n",
    "    score2,_ = tree2.add(ips[int(counter * ratio) % len(ips)])\n",
    "    bad_scores.append(score2)\n",
    "    #print(\"~~~~~~~~~~~added malicious IP\", ips[counter % malicious_ips_num], \"with score\", score2)\n",
    "    #score3,_ = tree3.add(ips[counter % malicious_ips_num])\n",
    "    #ax.scatter(2*counter + 1, score1, label='score1, malicious', color='red')\n",
    "    ax.scatter(2*counter + 1, score2, label='score2, malicious', color='orange', marker='x')\n",
    "    #ax.scatter(2*counter + 1, score3, label='score2, malicious', color='yellow', marker='o')\n",
    "    counter += 1\n",
    "print(\"avg good score\", sum(good_scores)/len(good_scores))\n",
    "print(\"avg bad score\", sum(bad_scores)/len(bad_scores))\n",
    "plt.show()"
   ]
  },
  {
   "cell_type": "markdown",
   "metadata": {},
   "source": [
    "We make it better by taking the IP similarity score to the power of `P_ip`, which helps a bit, but it seems more like a hack rather than a solution. Specifically, solving the issue with a specific `P_ip` might backfire against honest nodes in some cases. \n",
    "\n",
    "The issue is getting worse when we give the attacker 10 different IPs. "
   ]
  },
  {
   "cell_type": "code",
   "execution_count": 8,
   "metadata": {},
   "outputs": [
    {
     "data": {
      "image/png": "[encoded data removed]",
      "text/plain": [
       "<Figure size 432x288 with 1 Axes>"
      ]
     },
     "metadata": {
      "needs_background": "light"
     },
     "output_type": "display_data"
    }
   ],
   "source": [
    "tree1 = Tree()\n",
    "tree2 = TreeMichal()\n",
    "#tree3 = TreeOnur()\n",
    "scores = []\n",
    "fig = plt.figure()\n",
    "ax = fig.add_subplot()\n",
    "malicious_ips_num = 20\n",
    "\n",
    "counter = 0\n",
    "for ip in ips:\n",
    "    score1,_ = tree1.add(ip)\n",
    "    score2,_ = tree2.add(ip)\n",
    "    #score3,_ = tree3.add(ip)\n",
    "    #print(\"~~~~~~~~~~~added bening IP\", ip, \"with score\", score2)\n",
    "\n",
    "    ax.scatter(2*counter, score1, label='score1, benign', color='green')\n",
    "    ax.scatter(2*counter, score2, label='score2, benign', color='blue', marker='x')\n",
    "    #ax.scatter(2*counter, score3, label='score3, benign', color='black', marker='o')\n",
    "    \n",
    "    score1,_ = tree1.add(ips[counter % malicious_ips_num])\n",
    "    score2,_ = tree2.add(ips[counter % malicious_ips_num])\n",
    "    #print(\"~~~~~~~~~~~added malicious IP\", ips[counter % malicious_ips_num], \"with score\", score2)\n",
    "    #score3,_ = tree3.add(ips[counter % malicious_ips_num])\n",
    "    ax.scatter(2*counter + 1, score1, label='score1, malicious', color='red')\n",
    "    ax.scatter(2*counter + 1, score2, label='score2, malicious', color='orange', marker='x')\n",
    "    #ax.scatter(2*counter + 1, score3, label='score2, malicious', color='yellow', marker='o')\n",
    "    counter += 1\n",
    "plt.show()"
   ]
  },
  {
   "cell_type": "markdown",
   "metadata": {},
   "source": [
    "The question is \"what to do about it?\". We can change the `max_score` so it's the maximum value possible for this specific tree. However, if we do that, a normal IP in a perfectly balanced tree would yield high ip similarity score which IMO we should avoid. \n",
    "\n",
    "A more robust approach might be to use some measure of how the tree is balanced and whether the new IP is increasing or decreasing this balance metric (and by how much).\n",
    "\n",
    "One idea for the \"balance score\" would be to take the difference between the max and min possible score and normalize them with the `root_counter`. To investigate. "
   ]
  },
  {
   "cell_type": "code",
   "execution_count": 9,
   "metadata": {},
   "outputs": [
    {
     "data": {
      "image/png": "[encoded data removed]",
      "text/plain": [
       "<Figure size 432x288 with 1 Axes>"
      ]
     },
     "metadata": {
      "needs_background": "light"
     },
     "output_type": "display_data"
    }
   ],
   "source": [
    "tree1 = Tree()\n",
    "tree2 = TreeMichal()\n",
    "tree3 = TreeOnur()\n",
    "scores = []\n",
    "fig = plt.figure()\n",
    "ax = fig.add_subplot()\n",
    "malicious_ips_num = 50\n",
    "\n",
    "counter = 0\n",
    "for ip in ips:\n",
    "    score1,_ = tree1.add(ip)\n",
    "    score2,_ = tree2.add(ip)\n",
    "    score3,_ = tree3.add(ip)\n",
    "    #print(\"~~~~~~~~~~~added bening IP\", ip, \"with score\", score2)\n",
    "\n",
    "    ax.scatter(2*counter, score1, label='score1, benign', color='green')\n",
    "    ax.scatter(2*counter, score2, label='score2, benign', color='blue', marker='x')\n",
    "    ax.scatter(2*counter, score3, label='score3, benign', color='black', marker='o')\n",
    "    \n",
    "    score1,_ = tree1.add(ips[counter % malicious_ips_num])\n",
    "    score2,_ = tree2.add(ips[counter % malicious_ips_num])\n",
    "    #print(\"~~~~~~~~~~~added malicious IP\", ips[counter % malicious_ips_num], \"with score\", score2)\n",
    "    score3,_ = tree3.add(ips[counter % malicious_ips_num])\n",
    "    ax.scatter(2*counter + 1, score1, label='score1, malicious', color='red')\n",
    "    ax.scatter(2*counter + 1, score2, label='score2, malicious', color='orange', marker='x')\n",
    "    ax.scatter(2*counter + 1, score3, label='score2, malicious', color='yellow', marker='o')\n",
    "    counter += 1\n",
    "plt.show()"
   ]
  },
  {
   "cell_type": "code",
   "execution_count": 29,
   "metadata": {},
   "outputs": [
    {
     "name": "stdout",
     "output_type": "stream",
     "text": [
      "There are 100 ips and 100 distinct ips.\n"
     ]
    },
    {
     "data": {
      "image/png": "[encoded data removed]",
      "text/plain": [
       "<Figure size 432x288 with 1 Axes>"
      ]
     },
     "metadata": {
      "needs_background": "light"
     },
     "output_type": "display_data"
    }
   ],
   "source": [
    "#!/usr/bin/python3 \n",
    "\n",
    "import math\n",
    "import matplotlib.pyplot as plt\n",
    "import random\n",
    "\n",
    "from Tree import *\n",
    "from TreeOnur import *\n",
    "from TreeMichal import *\n",
    "\n",
    "# helper function to flip a bit written as a string/character\n",
    "def flip(b):\n",
    "    assert(b == '0' or b == '1')\n",
    "    if (b == '0'):\n",
    "        return '1'\n",
    "    return '0'\n",
    "\n",
    "# generates a specified amount of IPs that will get the lowest possible score in the IP tree\n",
    "def generate_IPs(n):\n",
    "    ips = []\n",
    "    init_ip = list('1'*32)\n",
    "    for i in range(0, n):\n",
    "        for j in range(0, len(init_ip)):\n",
    "            if((i % (2**j)) == 0):\n",
    "                init_ip[j] = flip(init_ip[j])\n",
    "        \n",
    "        ip_str = ''\n",
    "        for octet in range(0, 4):\n",
    "            offset = octet*8\n",
    "            octet_str = str(int(''.join(init_ip[offset:offset + 8]), 2))\n",
    "            ip_str  = ip_str + '.' + octet_str\n",
    "        #remove the first '.'\n",
    "        ips.append(ip_str[1:])\n",
    "    return ips\n",
    "\n",
    "ips = generate_IPs(100)\n",
    "print(\"There are\",len(ips), \"ips and\", len(set(ips)), \"distinct ips.\")\n",
    "fig = plt.figure()\n",
    "ax = fig.add_subplot()\n",
    "\n",
    "for malicious_ips_num in range(1, len(ips)+1):\n",
    "    tree1 = Tree()\n",
    "    tree2 = TreeMichal()\n",
    "    scores = []\n",
    "    counter = 0\n",
    "    good_scores = []\n",
    "    bad_scores = []\n",
    "    ratio = len(ips)/malicious_ips_num\n",
    "    malicious_ips = set()\n",
    "    while(len(malicious_ips) < malicious_ips_num):\n",
    "        malicious_ips.add(ips[random.randint(0, len(ips)-1)])\n",
    "    malicious_ips = list(malicious_ips)\n",
    "\n",
    "    for ip in ips:\n",
    "        score2,_ = tree2.add(ip)\n",
    "        good_scores.append(score2)\n",
    "       \n",
    "        score2,_ = tree2.add(malicious_ips[counter % len(malicious_ips)])\n",
    "        bad_scores.append(score2)\n",
    "        counter += 1\n",
    "\n",
    "    ax.scatter(malicious_ips_num/len(ips), sum(good_scores)/len(good_scores), label='good', color='green')\n",
    "    ax.scatter(malicious_ips_num/len(ips), sum(bad_scores)/len(bad_scores), label='malicious', color='red')\n",
    "\n",
    "ax.set_xlabel('Malicious IPs/Honest IPs')\n",
    "ax.set_ylabel('Average IP score')\n",
    "plt.show()"
   ]
  }
 ],
 "metadata": {
  "interpreter": {
   "hash": "31f2aee4e71d21fbe5cf8b01ff0e069b9275f58929596ceb00d14d90e3e16cd6"
  },
  "kernelspec": {
   "display_name": "Python 3.8.10 64-bit",
   "language": "python",
   "name": "python3"
  },
  "language_info": {
   "codemirror_mode": {
    "name": "ipython",
    "version": 3
   },
   "file_extension": ".py",
   "mimetype": "text/x-python",
   "name": "python",
   "nbconvert_exporter": "python",
   "pygments_lexer": "ipython3",
   "version": "3.8.10"
  },
  "orig_nbformat": 4
 },
 "nbformat": 4,
 "nbformat_minor": 2
}

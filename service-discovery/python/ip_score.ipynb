{
 "cells": [
  {
   "cell_type": "markdown",
   "metadata": {},
   "source": [
    "# IP Score\n",
    "\n",
    "Currently, we transform each IP into bits and traverse the binary tree summing all the encountered counters (it forms `score(IP)`). The final similarity score for an IP, is given by `score(IP)/max_possible_score`. \n",
    "\n",
    "The problem is that we calculate `max_possible_score` using `32*root_counter`. This is the maximum possible score for a tree with `root_counter` same IPs inside, and not the particular tree in question. For a balance tree, the maximum possible score will be much lower. This is problematic, as for more or less balanced tree, we'll never achieve similarity scores close to 1. Even if the node is being spammed by an attacker. \n",
    "\n",
    "The below shows what's the IP score when there's an attacker creates the same amount of nodes as all the honest nodes but using a single IP. "
   ]
  },
  {
   "cell_type": "code",
   "execution_count": 1,
   "metadata": {},
   "outputs": [
    {
     "name": "stdout",
     "output_type": "stream",
     "text": [
      "There are 1000 ips and 1000 distinct ips.\n"
     ]
    },
    {
     "data": {
      "image/png": "[encoded data removed]",
      "text/plain": [
       "<Figure size 432x288 with 1 Axes>"
      ]
     },
     "metadata": {
      "needs_background": "light"
     },
     "output_type": "display_data"
    }
   ],
   "source": [
    "#!/usr/bin/python3 \n",
    "\n",
    "import math\n",
    "import matplotlib.pyplot as plt\n",
    "\n",
    "from Tree import *\n",
    "\n",
    "# helper function to flip a bit written as a string/character\n",
    "def flip(b):\n",
    "    assert(b == '0' or b == '1')\n",
    "    if (b == '0'):\n",
    "        return '1'\n",
    "    return '0'\n",
    "\n",
    "# generates a specified amount of IPs that will get the lowest possible score in the IP tree\n",
    "def generate_IPs(n):\n",
    "    ips = []\n",
    "    init_ip = list('1'*32)\n",
    "    for i in range(0, n):\n",
    "        for j in range(0, len(init_ip)):\n",
    "            if((i % (2**j)) == 0):\n",
    "                init_ip[j] = flip(init_ip[j])\n",
    "        \n",
    "        ip_str = ''\n",
    "        for octet in range(0, 4):\n",
    "            offset = octet*8\n",
    "            octet_str = str(int(''.join(init_ip[offset:offset + 8]), 2))\n",
    "            ip_str  = ip_str + '.' + octet_str\n",
    "        #remove the first '.'\n",
    "        ips.append(ip_str[1:])\n",
    "    return ips\n",
    "\n",
    "ips = generate_IPs(1000)\n",
    "#print(ips)\n",
    "print(\"There are\",len(ips), \"ips and\", len(set(ips)), \"distinct ips.\")\n",
    "\n",
    "tree = Tree()\n",
    "scores = []\n",
    "fig = plt.figure()\n",
    "ax = fig.add_subplot()\n",
    "malicious_ips_num = 1\n",
    "\n",
    "counter = 0\n",
    "for ip in ips:\n",
    "    score = tree.add(ip)\n",
    "    #print(\"added:\", ip, \"with score:\", score)\n",
    "    #print(\"######################################################\")\n",
    "    ax.scatter(2*counter, score, label='benign', color='green')\n",
    "    \n",
    "    score = tree.add(ips[counter % malicious_ips_num])\n",
    "    ax.scatter(2*counter + 1, score, label='malicious', color='red')\n",
    "    counter += 1\n",
    "\n",
    "plt.show()"
   ]
  },
  {
   "cell_type": "markdown",
   "metadata": {},
   "source": [
    "We make it better by taking the IP similarity score to the power of `P_ip`, which helps a bit, but it seems more like a hack rather than a solution. Specifically, solving the issue with a specific `P_ip` might backfire against honest nodes in some cases. \n",
    "\n",
    "The issue is getting worse when we give the attacker 10 different IPs. "
   ]
  },
  {
   "cell_type": "code",
   "execution_count": 2,
   "metadata": {},
   "outputs": [
    {
     "data": {
      "image/png": "[encoded data removed]",
      "text/plain": [
       "<Figure size 432x288 with 1 Axes>"
      ]
     },
     "metadata": {
      "needs_background": "light"
     },
     "output_type": "display_data"
    }
   ],
   "source": [
    "tree = Tree()\n",
    "scores = []\n",
    "fig = plt.figure()\n",
    "ax = fig.add_subplot()\n",
    "malicious_ips_num = 10\n",
    "\n",
    "counter = 0\n",
    "for ip in ips:\n",
    "    score = tree.add(ip)\n",
    "    #print(\"added:\", ip, \"with score:\", score)\n",
    "    #print(\"######################################################\")\n",
    "    ax.scatter(2*counter, score, label='benign', color='green')\n",
    "    \n",
    "    score = tree.add(ips[counter % malicious_ips_num])\n",
    "    ax.scatter(2*counter + 1, score, label='malicious', color='red')\n",
    "    counter += 1\n",
    "\n",
    "plt.show()"
   ]
  },
  {
   "cell_type": "markdown",
   "metadata": {},
   "source": [
    "The question is \"what to do about it?\". We can change the `max_score` so it's the maximum value possible for this specific tree. However, if we do that, a normal IP in a perfectly balanced tree would yield high ip similarity score which IMO we should avoid. \n",
    "\n",
    "A more robust approach might be to use some measure of how the tree is balanced and whether the new IP is increasing or decreasing this balance metric (and by how much).\n",
    "\n",
    "One idea for the \"balance score\" would be to take the difference between the max and min possible score and normalize them with the `root_counter`. To investigate. "
   ]
  }
 ],
 "metadata": {
  "interpreter": {
   "hash": "31f2aee4e71d21fbe5cf8b01ff0e069b9275f58929596ceb00d14d90e3e16cd6"
  },
  "kernelspec": {
   "display_name": "Python 3.8.10 64-bit",
   "language": "python",
   "name": "python3"
  },
  "language_info": {
   "codemirror_mode": {
    "name": "ipython",
    "version": 3
   },
   "file_extension": ".py",
   "mimetype": "text/x-python",
   "name": "python",
   "nbconvert_exporter": "python",
   "pygments_lexer": "ipython3",
   "version": "3.8.10"
  },
  "orig_nbformat": 4
 },
 "nbformat": 4,
 "nbformat_minor": 2
}
